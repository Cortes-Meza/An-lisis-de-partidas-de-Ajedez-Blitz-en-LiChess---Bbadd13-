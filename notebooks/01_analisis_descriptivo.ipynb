{
 "cells": [
  {
   "cell_type": "markdown",
   "id": "a197f4f4",
   "metadata": {},
   "source": [
    "# Analisis estadístico de partidas Blitz - `bbadd13`"
   ]
  },
  {
   "cell_type": "markdown",
   "id": "1675e247",
   "metadata": {},
   "source": [
    "### Diccionario de Datos y descripción"
   ]
  },
  {
   "cell_type": "markdown",
   "id": "dda137ed",
   "metadata": {},
   "source": [
    "`df_white` - `df_black` (DataFrames correspondientes con variables anadidas)\n",
    "\n",
    "| Variable      | Tipo    | Descripción                                                        |\n",
    "| ------------- | ------- | ------------------------------------------------------------------ |\n",
    "| `game_id` | object     | ID del juego |\n",
    "| `date`       | object  | Fecha del juego (AAAA.MM.DD)                      |\n",
    "| `white` | object  | Nombre de usuario de quien lleva las piezas blancas                        |\n",
    "| `black`   | object  | Nombre de usuario de quien lleva las piezas negras                       |\n",
    "| `white_elo`  | int | ELO de las piezas blancas                        |\n",
    "| `black_elo`  | int | ELO de las piezas negras                        |\n",
    "| `result`     | object | Resultado de la partida (1/2-1/2, 0-1 o 1-0) |\n",
    "| `opening` | object | Apertura jugada en esa partida    |\n",
    "| `eco` | object | Codigo ECO de la apertura |\n",
    "| `move_number` | int | Numero del movimiento | \n",
    "| `player_to_move` | object | Pieza que debe hacer el movimiento |\n",
    "| `move_san` | object | Notacion estandar |\n",
    "| `fen_before` | object | Representacion del tablero antes del movimiento en notacion FEN |\n",
    "| `time_remaining` | object | Tiempo sobrante desde el movimiento |\n",
    "| `best_move` | object | Mejor movimiento por Stockfish 17.1 en notacion UCI |\n",
    "| `eval_before` | float | Evaluacion de la posicion antes del movimiento en Centipeones |\n",
    "| `eval_after` | float | Evaluacion de la posicion despues del movimiento en Centipeones |\n",
    "| `centipawn_loss` | float | Perdida de Centipeones por movimiento |\n",
    "| `avg_cpl_player_game` | float | Promedio de CPL por jugador en el juego |\n",
    "| `avg_cpl_game` | float | Promedio de CPL por juego |\n",
    "| `accuracy_game_player` | float |  Accuracy del Target Player en juego |"
   ]
  },
  {
   "cell_type": "markdown",
   "id": "e3381cf1",
   "metadata": {},
   "source": [
    "Estos DataFrames contienen la información de la partida cuando el `Target Player` juega con las piezas blancas y negras respectivamente.\n",
    "\n",
    "Está conformado por todos los movimientos de todas las partidas parseadas y analizadas con los scripts anteriores, esto quiere decir, que todos los registros tienen data de ambos `Jugadores` por movimiento."
   ]
  },
  {
   "cell_type": "markdown",
   "id": "1744f845",
   "metadata": {},
   "source": [
    "DFs como `df_white_moves` - `df_black_moves` contienen las mismas variables pero los registros solamente corresponden a los movimientos del `Target Player`"
   ]
  },
  {
   "cell_type": "markdown",
   "id": "2aa47483",
   "metadata": {},
   "source": [
    "El DF `df_games_white` se agrupa solamente por el ID de la partida, util para el analisis descriptivo de las partidas"
   ]
  },
  {
   "cell_type": "markdown",
   "id": "07d5ccfd",
   "metadata": {},
   "source": [
    "### Carga de datos\n",
    "\n",
    "* Creación y exploración de los DataFrames principales"
   ]
  },
  {
   "cell_type": "code",
   "execution_count": 30,
   "id": "035e8f86",
   "metadata": {},
   "outputs": [],
   "source": [
    "import pandas as pd\n",
    "\n",
    "#Cargar del CSV con partidas blancas con todos los movimientos\n",
    "df_white = pd.read_csv(r\"D:\\Chess\\Analisis\\data\\processed\\games_with_analysis_white.csv\")\n",
    "\n",
    "#df_white.head()\n",
    "#df_white.info()\n",
    "#df_white.describe()\n",
    "#df_white.isnull().sum()"
   ]
  },
  {
   "cell_type": "code",
   "execution_count": 31,
   "id": "f4efc27c",
   "metadata": {},
   "outputs": [],
   "source": [
    "#Carga del CSV con partidas negras con todos los movimientos\n",
    "df_black = pd.read_csv(r\"D:\\Chess\\Analisis\\data\\processed\\games_with_analysis_black.csv\")\n",
    "\n",
    "#df_black.head()\n",
    "#df_black.describe()\n",
    "#df_black.info()\n",
    "#df_black.isnull().sum()"
   ]
  },
  {
   "cell_type": "code",
   "execution_count": 32,
   "id": "b80d30b7",
   "metadata": {},
   "outputs": [],
   "source": [
    "#Creacion del DF con partidas blancas y negras por juego\n",
    "df_games_white = df_white.groupby(\"game_id\").last().reset_index()\n",
    "df_games_black = df_black.groupby(\"game_id\").last().reset_index()"
   ]
  },
  {
   "cell_type": "markdown",
   "id": "efed6453",
   "metadata": {},
   "source": [
    "## Resultados por partida\n",
    "\n",
    "* Resultados con piezas blancas:\n",
    "    * Partida perdida\n",
    "    * Partida ganada\n",
    "    * Tablas\n",
    "\n",
    "* Resultados con piezas negras:\n",
    "    * Partida ganada\n",
    "    * Partida perdida\n",
    "    * Tablas\n",
    "\n",
    "* ELO promedio\n",
    "    * Descripción estadística del ELO\n",
    "    * Distribución con piezas negras y blancas\n",
    "\n",
    "* ELO promedio contricante\n",
    "    * Descripcion estadistica del ELO\n",
    "    * Distribucion con piezas negras y blancas"
   ]
  },
  {
   "cell_type": "code",
   "execution_count": 33,
   "id": "fbfbca19",
   "metadata": {},
   "outputs": [
    {
     "name": "stdout",
     "output_type": "stream",
     "text": [
      "Resultado de partida con piezas blancas:\n",
      "   Resultado  Cantidad Interpretacion\n",
      "0       0-1        73       perdidas\n",
      "1       1-0        78        ganadas\n",
      "2   1/2-1/2         7         tablas\n",
      "\n",
      " Resultado de partida con piezas negras:\n",
      "   Resultado  Cantidad Interpretacion\n",
      "0       0-1        90        ganadas\n",
      "1       1-0        71       perdidas\n",
      "2   1/2-1/2         5         tablas\n"
     ]
    }
   ],
   "source": [
    "dic_white = {\n",
    "    '1-0': \"ganadas\",\n",
    "    '0-1': \"perdidas\",\n",
    "    '1/2-1/2': \"tablas\"\n",
    "}\n",
    "\n",
    "dic_black = {\n",
    "    '1-0': \"perdidas\",\n",
    "    '0-1': \"ganadas\",\n",
    "    '1/2-1/2': \"tablas\"\n",
    "}\n",
    "\n",
    "res_white = df_games_white.groupby(\"result\").size().rename_axis(\"Resultado\").reset_index(name=\"Cantidad\")\n",
    "res_white[\"Interpretacion\"] = res_white[\"Resultado\"].map(dic_white)\n",
    "\n",
    "print(\"Resultado de partida con piezas blancas:\\n\", res_white)\n",
    "\n",
    "# Contar resultados con negras\n",
    "res_black = df_games_black.groupby(\"result\").size().rename_axis(\"Resultado\").reset_index(name=\"Cantidad\")\n",
    "res_black[\"Interpretacion\"] = res_black[\"Resultado\"].map(dic_black)\n",
    "\n",
    "\n",
    "print(\"\\n Resultado de partida con piezas negras:\\n\", res_black)"
   ]
  },
  {
   "cell_type": "markdown",
   "id": "4527973c",
   "metadata": {},
   "source": [
    "### ELO promedio"
   ]
  },
  {
   "cell_type": "code",
   "execution_count": 34,
   "id": "ede4ba89",
   "metadata": {},
   "outputs": [
    {
     "name": "stdout",
     "output_type": "stream",
     "text": [
      "\n",
      "ELO Descripcion estadistica:\n",
      "count     324.000000\n",
      "mean     1291.416667\n",
      "std        90.845508\n",
      "min      1121.000000\n",
      "25%      1201.500000\n",
      "50%      1307.000000\n",
      "75%      1354.500000\n",
      "max      1500.000000\n",
      "dtype: float64\n"
     ]
    },
    {
     "data": {
      "image/png": "[encoded data removed]",
      "text/plain": [
       "<Figure size 640x480 with 1 Axes>"
      ]
     },
     "metadata": {},
     "output_type": "display_data"
    }
   ],
   "source": [
    "#Concatenacion de los ELOS\n",
    "ELOS = pd.concat([df_games_white[\"white_elo\"], df_games_black[\"black_elo\"]])\n",
    "\n",
    "ELO_prommedio = ELOS.mean()\n",
    "ELO_describe = ELOS.describe()\n",
    "\n",
    "print(f\"\\nELO Descripcion estadistica:\\n{ELO_describe}\")\n",
    "\n",
    "import matplotlib.pyplot as plt\n",
    "\n",
    "plt.Figure(figsize=(16, 8))\n",
    "plt.hist(df_games_black['black_elo'], bins=30, alpha=0.9, label=\"Negras\", color='violet')\n",
    "plt.hist(df_games_white['white_elo'], bins=30, alpha=0.9, label=\"Blancas\", color='blueviolet')\n",
    "#plt.hist(ELOS, bins=30, color='blue', alpha=0.7)\n",
    "plt.title(\"Distribución del ELO con piezas blancas y negras\")\n",
    "plt.xlabel(\"ELO\")\n",
    "plt.ylabel(\"Frecuencia\")\n",
    "plt.legend()\n",
    "plt.grid(True, alpha=0.3)\n",
    "plt.show()"
   ]
  },
  {
   "cell_type": "markdown",
   "id": "afa29b6a",
   "metadata": {},
   "source": [
    "### ELO promedio contricante"
   ]
  },
  {
   "cell_type": "code",
   "execution_count": 35,
   "id": "7255a387",
   "metadata": {},
   "outputs": [
    {
     "name": "stdout",
     "output_type": "stream",
     "text": [
      "\n",
      "ELO Descripcion estadistica:\n",
      "count     324.000000\n",
      "mean     1298.604938\n",
      "std       140.198946\n",
      "min       981.000000\n",
      "25%      1206.500000\n",
      "50%      1293.000000\n",
      "75%      1361.000000\n",
      "max      2404.000000\n",
      "dtype: float64\n"
     ]
    },
    {
     "data": {
      "image/png": "[encoded data removed]",
      "text/plain": [
       "<Figure size 640x480 with 1 Axes>"
      ]
     },
     "metadata": {},
     "output_type": "display_data"
    }
   ],
   "source": [
    "#Concatenacion de los ELOS\n",
    "ELOS_CONTRINCANTES = pd.concat([df_games_white[\"black_elo\"], df_games_black[\"white_elo\"]])\n",
    "\n",
    "ELO_prommedio_contrincantes = ELOS_CONTRINCANTES.mean()\n",
    "ELO_describe_contrincantes = ELOS_CONTRINCANTES.describe()\n",
    "\n",
    "print(f\"\\nELO Descripcion estadistica:\\n{ELO_describe_contrincantes}\")\n",
    "\n",
    "import matplotlib.pyplot as plt\n",
    "\n",
    "plt.Figure(figsize=(16, 8))\n",
    "plt.hist(df_games_black['white_elo'], bins=30, alpha=0.9, label=\"Blancas (piezas del contrincante)\", color='violet')\n",
    "plt.hist(df_games_white['black_elo'], bins=30, alpha=0.9, label=\"Negras (piezas del contrincante)\", color='blueviolet')\n",
    "#plt.hist(ELOS, bins=30, color='blue', alpha=0.7)\n",
    "plt.title(\"Distribución del ELO con piezas blancas y negras (contrincantes)\")\n",
    "plt.xlabel(\"ELO contrincantes\")\n",
    "plt.ylabel(\"Frecuencia\")\n",
    "plt.legend()\n",
    "plt.grid(True, alpha=0.3)\n",
    "plt.show()"
   ]
  },
  {
   "cell_type": "markdown",
   "id": "6472e51d",
   "metadata": {},
   "source": [
    "### Aperturas\n",
    "\n",
    "* Aperturas mas jugadas en general\n",
    "    * Con piezas blancas y negras\n",
    "* Rendimiento por apertura en general\n",
    "    * Rendimiento con piezas blancas y negras"
   ]
  },
  {
   "cell_type": "code",
   "execution_count": 36,
   "id": "6f07883b",
   "metadata": {},
   "outputs": [
    {
     "name": "stdout",
     "output_type": "stream",
     "text": [
      "Aperturas mas jugadas en general:\n",
      " opening\n",
      "Four Knights Game: Italian Variation            21\n",
      "Italian Game: Anti-Fried Liver Defense          21\n",
      "Vienna Game                                     12\n",
      "King's Pawn Game: Leonardis Variation           11\n",
      "Owen Defense                                    11\n",
      "Scotch Game                                     10\n",
      "Queen's Pawn Game                                9\n",
      "Queen's Pawn Game: Accelerated London System     8\n",
      "Three Knights Opening                            8\n",
      "Modern Defense                                   7\n",
      "Name: count, dtype: int64\n"
     ]
    }
   ],
   "source": [
    "aperturas_general = pd.concat([df_games_white[\"opening\"], df_games_black[\"opening\"]])\n",
    "\n",
    "print(f\"Aperturas mas jugadas en general:\\n\", aperturas_general.value_counts().head(10))"
   ]
  },
  {
   "cell_type": "code",
   "execution_count": 37,
   "id": "7bf9e75a",
   "metadata": {},
   "outputs": [
    {
     "name": "stdout",
     "output_type": "stream",
     "text": [
      "Aperturas mas jugadas con piezas blancas:\n",
      " opening\n",
      "Four Knights Game: Italian Variation         18\n",
      "Vienna Game                                  12\n",
      "Modern Defense                                7\n",
      "Petrov's Defense: Three Knights Game          7\n",
      "Caro-Kann Defense                             6\n",
      "Three Knights Opening                         6\n",
      "Philidor Defense                              6\n",
      "Queen's Pawn Game: Zukertort Variation        5\n",
      "Petrov's Defense: Italian Variation           5\n",
      "Scandinavian Defense: Valencian Variation     5\n",
      "Name: count, dtype: int64\n"
     ]
    }
   ],
   "source": [
    "print(f\"Aperturas mas jugadas con piezas blancas:\\n\", df_games_white[\"opening\"].value_counts(). head(10))"
   ]
  },
  {
   "cell_type": "code",
   "execution_count": 38,
   "id": "54ebf2f9",
   "metadata": {},
   "outputs": [
    {
     "name": "stdout",
     "output_type": "stream",
     "text": [
      "Aperturas mas jugadas con piezas negras:\n",
      " opening\n",
      "Italian Game: Anti-Fried Liver Defense          20\n",
      "King's Pawn Game: Leonardis Variation           11\n",
      "Scotch Game                                     10\n",
      "Queen's Pawn Game: Accelerated London System     8\n",
      "Owen Defense                                     8\n",
      "Queen's Pawn Game                                8\n",
      "Bishop's Opening                                 7\n",
      "Hungarian Opening                                6\n",
      "Van't Kruijs Opening                             6\n",
      "Ruy Lopez: Steinitz Defense                      5\n",
      "Name: count, dtype: int64\n"
     ]
    }
   ],
   "source": [
    "print(f\"Aperturas mas jugadas con piezas negras:\\n\", df_games_black[\"opening\"].value_counts().head(10))"
   ]
  },
  {
   "cell_type": "markdown",
   "id": "c48f53dd",
   "metadata": {},
   "source": [
    "### Rendimiento por apertura"
   ]
  },
  {
   "cell_type": "code",
   "execution_count": 39,
   "id": "7a80c535",
   "metadata": {},
   "outputs": [
    {
     "name": "stdout",
     "output_type": "stream",
     "text": [
      "Rendimiento promedio por apertura general: \n",
      " opening\n",
      "Alekhine Defense                                                     1.0\n",
      "French Defense: Knight Variation                                     1.0\n",
      "Queen's Gambit Declined: Harrwitz Attack                             1.0\n",
      "Nimzowitsch Defense: Breyer Variation                                1.0\n",
      "Queen's Gambit Declined: Exchange Variation, Positional Variation    1.0\n",
      "Pirc Defense: Classical Variation                                    1.0\n",
      "Italian Game: Giuoco Piano                                           1.0\n",
      "Italian Game: Hungarian Defense                                      1.0\n",
      "King's Gambit Declined: Queen's Knight Defense                       1.0\n",
      "King's Knight Opening: Normal Variation                              1.0\n",
      "Name: score, dtype: float64\n",
      "Rendimiento promedio por apertura y color: \n",
      " color                                                  black  white\n",
      "opening                                                            \n",
      "Alekhine Defense                                         NaN   1.00\n",
      "Bishop's Opening                                    0.571429    NaN\n",
      "Bishop's Opening: Vienna Hybrid                     1.000000    NaN\n",
      "Caro-Kann Defense                                        NaN   0.25\n",
      "Caro-Kann Defense: Exchange Variation                    NaN   1.00\n",
      "Caro-Kann Defense: Two Knights Attack                    NaN   1.00\n",
      "Caro-Kann Defense: Two Knights Attack, Mindeno ...       NaN   0.00\n",
      "Carr Defense                                             NaN   1.00\n",
      "Center Game: Hall Variation                         0.000000    NaN\n",
      "Center Game: Normal Variation                       0.000000    NaN\n"
     ]
    }
   ],
   "source": [
    "df_games_white['color'] = \"white\"\n",
    "df_games_black['color'] = 'black'\n",
    "\n",
    "df_games_white[\"score\"] = df_games_white[\"result\"].map({\"1-0\": 1, \"0-1\": 0, \"1/2-1/2\": 0.5})\n",
    "df_games_black[\"score\"] = df_games_black[\"result\"].map({\"1-0\": 0, \"0-1\": 1, \"1/2-1/2\": 0.5})\n",
    "\n",
    "df_white_black_games = pd.concat([df_games_white, df_games_black], ignore_index=True)\n",
    "\n",
    "rendimiento_general = df_white_black_games.groupby(\"opening\")[\"score\"].mean().sort_values(ascending=False)\n",
    "print(f\"Rendimiento promedio por apertura general: \\n\", rendimiento_general.head(10))\n",
    "\n",
    "rendimiento_por_color = df_white_black_games.groupby([\"opening\", \"color\"])[\"score\"].mean().unstack()\n",
    "print(f\"Rendimiento promedio por apertura y color: \\n\", rendimiento_por_color.head(10))"
   ]
  },
  {
   "cell_type": "markdown",
   "id": "a8cabd4b",
   "metadata": {},
   "source": [
    "### Métricas de calidad de juego \n",
    "\n",
    "* Pérdida de centipeones promedio\n",
    "    * General \n",
    "    * Piezas blancas (por jugador en partida y por partida)\n",
    "    * Piezas negras (por jugador en partida y por partida)\n",
    "* Errores y blunders\n",
    "    * Movimientos con pérdida de  >100 o >300 centipeones\n",
    "    * General\n",
    "    * Piezas blancas\n",
    "    * Piezas negras\n",
    "* Accuracy\n",
    "\n",
    "\n",
    "⚠️⚠️⚠️⚠️⚠️⚠️⚠️⚠️⚠️⚠️⚠️⚠️⚠️⚠️⚠️⚠️⚠️⚠️⚠️⚠️⚠️\n",
    "\n",
    "El CPL no es un valor único por partida, es un valor por movimiento\n",
    "1. El DataFrame contiene valores de los CPL por movimiento de forma intercalada, para promediar el CPL por partida por cada jugador es necesario sumar solamente los CPL por cada movimiento de cada jugador\n",
    "2. Para calcular el CPL promedio de partida (ambos jugadores) se tienen que iterar por los movimientos de ambos jugadores"
   ]
  },
  {
   "cell_type": "code",
   "execution_count": 40,
   "id": "6b18fa4d",
   "metadata": {},
   "outputs": [],
   "source": [
    "#Filtrado por jugadas de blancas y negras\n",
    "df_white_moves = df_white[df_white[\"player_to_move\"] == \"white\"]\n",
    "df_black_moves = df_black[df_black[\"player_to_move\"] == \"black\"]"
   ]
  },
  {
   "cell_type": "code",
   "execution_count": 41,
   "id": "220cb863",
   "metadata": {},
   "outputs": [],
   "source": [
    "#CPL promedio por partida, solo movimientos de blancas\n",
    "df_cpl_player_game_white = df_white_moves.groupby(\"game_id\").agg(avg_cpl_player_game = (\"centipawn_loss\", \"mean\")).reset_index()\n",
    "df_cpl_player_game_black = df_black_moves.groupby(\"game_id\").agg(avg_cpl_player_game = (\"centipawn_loss\", \"mean\")).reset_index()"
   ]
  },
  {
   "cell_type": "code",
   "execution_count": 42,
   "id": "74b05fef",
   "metadata": {},
   "outputs": [
    {
     "data": {
      "text/html": [
       "<div>\n",
       "<style scoped>\n",
       "    .dataframe tbody tr th:only-of-type {\n",
       "        vertical-align: middle;\n",
       "    }\n",
       "\n",
       "    .dataframe tbody tr th {\n",
       "        vertical-align: top;\n",
       "    }\n",
       "\n",
       "    .dataframe thead th {\n",
       "        text-align: right;\n",
       "    }\n",
       "</style>\n",
       "<table border=\"1\" class=\"dataframe\">\n",
       "  <thead>\n",
       "    <tr style=\"text-align: right;\">\n",
       "      <th></th>\n",
       "      <th>game_id</th>\n",
       "      <th>avg_cpl_player_game</th>\n",
       "    </tr>\n",
       "  </thead>\n",
       "  <tbody>\n",
       "    <tr>\n",
       "      <th>147</th>\n",
       "      <td>vjvRbZTO</td>\n",
       "      <td>190.088889</td>\n",
       "    </tr>\n",
       "  </tbody>\n",
       "</table>\n",
       "</div>"
      ],
      "text/plain": [
       "      game_id  avg_cpl_player_game\n",
       "147  vjvRbZTO           190.088889"
      ]
     },
     "execution_count": 42,
     "metadata": {},
     "output_type": "execute_result"
    }
   ],
   "source": [
    "#Prueba para corroborar el cpl promedio del jugador en una partida\n",
    "game_id_buscado = \"vjvRbZTO\"\n",
    "\n",
    "df_cpl_player_game_white[df_cpl_player_game_white[\"game_id\"] == game_id_buscado]"
   ]
  },
  {
   "cell_type": "code",
   "execution_count": 43,
   "id": "4fc3dbe6",
   "metadata": {},
   "outputs": [],
   "source": [
    "#CPL promedio en cada partida (ambos jugadores)\n",
    "df_cpl_game_white = df_white.groupby(\"game_id\").agg(avg_cpl_game = (\"centipawn_loss\", \"mean\")).reset_index()\n",
    "df_cpl_game_black = df_black.groupby(\"game_id\").agg(avg_cpl_game = (\"centipawn_loss\", \"mean\")).reset_index()"
   ]
  },
  {
   "cell_type": "code",
   "execution_count": 44,
   "id": "3ded61f3",
   "metadata": {},
   "outputs": [
    {
     "data": {
      "text/html": [
       "<div>\n",
       "<style scoped>\n",
       "    .dataframe tbody tr th:only-of-type {\n",
       "        vertical-align: middle;\n",
       "    }\n",
       "\n",
       "    .dataframe tbody tr th {\n",
       "        vertical-align: top;\n",
       "    }\n",
       "\n",
       "    .dataframe thead th {\n",
       "        text-align: right;\n",
       "    }\n",
       "</style>\n",
       "<table border=\"1\" class=\"dataframe\">\n",
       "  <thead>\n",
       "    <tr style=\"text-align: right;\">\n",
       "      <th></th>\n",
       "      <th>game_id</th>\n",
       "      <th>avg_cpl_game</th>\n",
       "    </tr>\n",
       "  </thead>\n",
       "  <tbody>\n",
       "    <tr>\n",
       "      <th>147</th>\n",
       "      <td>vjvRbZTO</td>\n",
       "      <td>2.505618</td>\n",
       "    </tr>\n",
       "  </tbody>\n",
       "</table>\n",
       "</div>"
      ],
      "text/plain": [
       "      game_id  avg_cpl_game\n",
       "147  vjvRbZTO      2.505618"
      ]
     },
     "execution_count": 44,
     "metadata": {},
     "output_type": "execute_result"
    }
   ],
   "source": [
    "#Prueba para corroborar el cpl promedio en una partida\n",
    "game_id_buscado = \"vjvRbZTO\"\n",
    "\n",
    "df_cpl_game_white[df_cpl_game_white[\"game_id\"] == game_id_buscado]"
   ]
  },
  {
   "cell_type": "code",
   "execution_count": 45,
   "id": "0930e1e1",
   "metadata": {},
   "outputs": [],
   "source": [
    "df_white = df_white.merge(df_cpl_player_game_white, on=\"game_id\", how=\"left\")\n",
    "df_white = df_white.merge(df_cpl_game_white, on=\"game_id\", how=\"left\")\n",
    "\n",
    "df_black = df_black.merge(df_cpl_player_game_black, on=\"game_id\", how=\"left\")\n",
    "df_black = df_black.merge(df_cpl_game_black, on=\"game_id\", how=\"left\")"
   ]
  },
  {
   "cell_type": "code",
   "execution_count": 46,
   "id": "72df35bc",
   "metadata": {},
   "outputs": [
    {
     "name": "stdout",
     "output_type": "stream",
     "text": [
      "CPL promedio por movimiento del jugador con piezas blancas: 447.3360349964842\n",
      "CPL promedio por movimientos del jugador con piezas negras: 104.10289047954271\n",
      "CPL promedio por movimientos del jugador en general: 271.4820165094092\n"
     ]
    },
    {
     "data": {
      "image/png": "[encoded data removed]",
      "text/plain": [
       "<Figure size 640x480 with 1 Axes>"
      ]
     },
     "metadata": {},
     "output_type": "display_data"
    }
   ],
   "source": [
    "cpl_promedio_white_games = df_cpl_player_game_white[\"avg_cpl_player_game\"].mean()\n",
    "print(f\"CPL promedio por movimiento del jugador con piezas blancas: {cpl_promedio_white_games}\")\n",
    "\n",
    "cpl_promedio_black_games = df_cpl_player_game_black[\"avg_cpl_player_game\"].mean()\n",
    "print(f\"CPL promedio por movimientos del jugador con piezas negras: {cpl_promedio_black_games}\")\n",
    "\n",
    "cpl_promedio_general_games = pd.concat([df_cpl_player_game_white[\"avg_cpl_player_game\"], df_cpl_player_game_black[\"avg_cpl_player_game\"]]).mean()\n",
    "print(f\"CPL promedio por movimientos del jugador en general: {cpl_promedio_general_games}\")\n",
    "\n",
    "plt.hist(df_cpl_player_game_white[\"avg_cpl_player_game\"], bins=30, alpha=0.9, label=\"Blancas\", color='blueviolet')\n",
    "plt.hist(df_cpl_player_game_black[\"avg_cpl_player_game\"], bins=30, alpha=0.9, label=\"Negras\", color='violet')\n",
    "plt.title(\"Distribución del CPL promedio por movimiento del jugador\")\n",
    "plt.xlabel(\"CPL promedio por movimiento del jugador\")\n",
    "plt.ylabel(\"Frecuencia\")\n",
    "plt.legend()\n",
    "plt.grid(True, alpha=0.3)\n",
    "plt.show()\n",
    "\n",
    "#Esta grafica no nos sirve mucho ya que el cpl promedio por movimiento no nos indica exactamente el rendimiento del jugador en partida ni cuales movimientos fueron mejores o peores, es una grafica que solamente indica la frecuencia del cpl donde 0 pueden ser jugadas normales y no necesariamente indica partodas brillantes en su mayoria"
   ]
  },
  {
   "cell_type": "code",
   "execution_count": 47,
   "id": "ad605cba",
   "metadata": {},
   "outputs": [],
   "source": [
    "#De momento no unificaremos ambos csv ya que asi como estan divididos en white y black nos es mas facil trabajar con ellos para identificar partidas propias y patrones por color\n",
    "#Unifica ambos DFs (blancas y negras)\n",
    "#df_all_games = pd.concat([df_white, df_black], ignore_index=True)"
   ]
  },
  {
   "cell_type": "markdown",
   "id": "b64f37a3",
   "metadata": {},
   "source": [
    "### Errores y Blunders"
   ]
  },
  {
   "cell_type": "code",
   "execution_count": 48,
   "id": "69a623cc",
   "metadata": {},
   "outputs": [],
   "source": [
    "df_white_moves_adversary = df_white[df_white[\"player_to_move\"] == \"black\"]\n",
    "df_black_moves_adversary = df_black[df_black[\"player_to_move\"] == \"white\"]"
   ]
  },
  {
   "cell_type": "code",
   "execution_count": 49,
   "id": "ed4c2118",
   "metadata": {},
   "outputs": [
    {
     "name": "stdout",
     "output_type": "stream",
     "text": [
      "Clasificación Blancas del Target Player:\n",
      " clasificacion\n",
      "Excelente      5128\n",
      "Blunder        2563\n",
      "Error           920\n",
      "Inexactitud     670\n",
      "Buena           387\n",
      "Name: count, dtype: int64\n",
      "\n",
      "Clasificación Negras del Target Player:\n",
      " clasificacion\n",
      "Excelente      5661\n",
      "Blunder        2809\n",
      "Error           990\n",
      "Inexactitud     746\n",
      "Buena           474\n",
      "Name: count, dtype: int64\n",
      "Coincide el numero de jugadas por csv respecto a movimientos del target player: 20348\n"
     ]
    }
   ],
   "source": [
    "def clasificar_jugada(cp_loss):\n",
    "    if cp_loss <= 20:\n",
    "        return \"Excelente\"\n",
    "    elif cp_loss <= 50:\n",
    "        return \"Buena\"\n",
    "    elif cp_loss <= 100:\n",
    "        return \"Inexactitud\"\n",
    "    elif cp_loss <= 300:\n",
    "        return \"Error\"\n",
    "    else:\n",
    "        return \"Blunder\"\n",
    "\n",
    "# Aplicar clasificación\n",
    "df_white[\"clasificacion\"] = df_white[\"centipawn_loss\"].apply(clasificar_jugada)\n",
    "df_black[\"clasificacion\"] = df_black[\"centipawn_loss\"].apply(clasificar_jugada)\n",
    "\n",
    "\n",
    "\n",
    "# Resumen por color\n",
    "resumen_white = df_white[\"clasificacion\"].value_counts()\n",
    "resumen_black = df_black[\"clasificacion\"].value_counts()\n",
    "\n",
    "print(\"Clasificación Blancas del Target Player:\\n\", resumen_white)\n",
    "print(\"\\nClasificación Negras del Target Player:\\n\", resumen_black)\n",
    "\n",
    "print(f\"Coincide el numero de jugadas por csv respecto a movimientos del target player: {resumen_white.sum() + resumen_black.sum()}\")"
   ]
  },
  {
   "cell_type": "code",
   "execution_count": 50,
   "id": "26ecca72",
   "metadata": {},
   "outputs": [
    {
     "name": "stdout",
     "output_type": "stream",
     "text": [
      "Clasificación Blancas del Target Player:\n",
      " clasificacion\n",
      "Excelente      2013\n",
      "Blunder        1474\n",
      "Error           631\n",
      "Inexactitud     514\n",
      "Buena           250\n",
      "Name: count, dtype: int64\n",
      "\n",
      "Clasificación Negras del Target Player:\n",
      " clasificacion\n",
      "Excelente      2973\n",
      "Blunder        1530\n",
      "Error           412\n",
      "Inexactitud     215\n",
      "Buena           174\n",
      "Name: count, dtype: int64\n",
      "Coincide el numero de jugadas por csv respecto a movimientos del target player: 10186\n"
     ]
    }
   ],
   "source": [
    "def clasificar_jugada(cp_loss):\n",
    "    if cp_loss <= 20:\n",
    "        return \"Excelente\"\n",
    "    elif cp_loss <= 50:\n",
    "        return \"Buena\"\n",
    "    elif cp_loss <= 100:\n",
    "        return \"Inexactitud\"\n",
    "    elif cp_loss <= 300:\n",
    "        return \"Error\"\n",
    "    else:\n",
    "        return \"Blunder\"\n",
    "\n",
    "# Aplicar clasificación\n",
    "df_white_moves[\"clasificacion\"] = df_white_moves[\"centipawn_loss\"].apply(clasificar_jugada)\n",
    "df_black_moves[\"clasificacion\"] = df_black_moves[\"centipawn_loss\"].apply(clasificar_jugada)\n",
    "\n",
    "# Resumen por color\n",
    "resumen_white_moves = df_white_moves[\"clasificacion\"].value_counts()\n",
    "resumen_black_moves = df_black_moves[\"clasificacion\"].value_counts()\n",
    "\n",
    "print(\"Clasificación Blancas del Target Player:\\n\", resumen_white_moves)\n",
    "print(\"\\nClasificación Negras del Target Player:\\n\", resumen_black_moves)\n",
    "\n",
    "print(f\"Coincide el numero de jugadas por csv respecto a movimientos del target player: {resumen_white_moves.sum() + resumen_black_moves.sum()}\")"
   ]
  },
  {
   "cell_type": "code",
   "execution_count": 51,
   "id": "2ea9dff2",
   "metadata": {},
   "outputs": [
    {
     "name": "stdout",
     "output_type": "stream",
     "text": [
      "Clasificación Blancas:\n",
      " clasificacion\n",
      "Excelente      3115\n",
      "Blunder        1089\n",
      "Error           289\n",
      "Inexactitud     156\n",
      "Buena           137\n",
      "Name: count, dtype: int64\n",
      "\n",
      "Clasificación Negras:\n",
      " clasificacion\n",
      "Excelente      2688\n",
      "Blunder        1279\n",
      "Error           578\n",
      "Inexactitud     531\n",
      "Buena           300\n",
      "Name: count, dtype: int64\n",
      "Coincide el numero de jugadas por csv respecto a movimientos propios: 10162\n"
     ]
    },
    {
     "name": "stderr",
     "output_type": "stream",
     "text": [
      "C:\\Users\\mccaj\\AppData\\Local\\Temp\\ipykernel_29020\\3934641135.py:2: SettingWithCopyWarning: \n",
      "A value is trying to be set on a copy of a slice from a DataFrame.\n",
      "Try using .loc[row_indexer,col_indexer] = value instead\n",
      "\n",
      "See the caveats in the documentation: https://pandas.pydata.org/pandas-docs/stable/user_guide/indexing.html#returning-a-view-versus-a-copy\n",
      "  df_white_moves_adversary[\"clasificacion\"] = df_white_moves_adversary[\"centipawn_loss\"].apply(clasificar_jugada)\n",
      "C:\\Users\\mccaj\\AppData\\Local\\Temp\\ipykernel_29020\\3934641135.py:3: SettingWithCopyWarning: \n",
      "A value is trying to be set on a copy of a slice from a DataFrame.\n",
      "Try using .loc[row_indexer,col_indexer] = value instead\n",
      "\n",
      "See the caveats in the documentation: https://pandas.pydata.org/pandas-docs/stable/user_guide/indexing.html#returning-a-view-versus-a-copy\n",
      "  df_black_moves_adversary[\"clasificacion\"] = df_black_moves_adversary[\"centipawn_loss\"].apply(clasificar_jugada)\n"
     ]
    }
   ],
   "source": [
    "# Aplicar clasificación\n",
    "df_white_moves_adversary[\"clasificacion\"] = df_white_moves_adversary[\"centipawn_loss\"].apply(clasificar_jugada)\n",
    "df_black_moves_adversary[\"clasificacion\"] = df_black_moves_adversary[\"centipawn_loss\"].apply(clasificar_jugada)\n",
    "\n",
    "# Resumen por color\n",
    "resumen_white_adversary = df_white_moves_adversary[\"clasificacion\"].value_counts()\n",
    "resumen_black_adversary = df_black_moves_adversary[\"clasificacion\"].value_counts()\n",
    "\n",
    "print(\"Clasificación Blancas:\\n\", resumen_white_adversary)\n",
    "print(\"\\nClasificación Negras:\\n\", resumen_black_adversary)\n",
    "\n",
    "print(f\"Coincide el numero de jugadas por csv respecto a movimientos propios: {resumen_white_adversary.sum() + resumen_black_adversary.sum()}\")"
   ]
  },
  {
   "cell_type": "markdown",
   "id": "2241a9eb",
   "metadata": {},
   "source": [
    "Fórmula aproximada usada por Lichess\n",
    "\n",
    "La fórmula que tiene Lichess para calcular el accuracy contempla el cálculo del porcentaje de ganar por cada movimiento mediante la siguiente fórmula:\n",
    "\n",
    "$\\text{Win\\%} = 50 + 50 \\cdot \\left( \\frac{2}{1 + \\exp(-0.00368208 \\cdot \\text{centipawns})} - 1 \\right)$\n",
    "\n",
    "Esto convierte la evaluacion de Stockfish (en centipeones) en una probabilidad de victoria\n",
    "\n",
    "Ya calculado el Win%, se puede calcular el Accuracy% de cada jugada\n",
    "\n",
    "Se compara el Win% anterior y el Win% posterior de las jugadas respectivamente:\n",
    "\n",
    "\n",
    "$\\text{Accuracy\\%} = (103.1668)e^{(-0.04354)(\\text{Win\\%Before} - \\text{Win\\%After})} - 3.1669$\n",
    "\n",
    "El Accuracy nos indica que tanto la partida estuvo cerca de la mejor jugada"
   ]
  },
  {
   "cell_type": "code",
   "execution_count": 52,
   "id": "c6d885c6",
   "metadata": {},
   "outputs": [],
   "source": [
    "import numpy as np\n",
    "\n",
    "#Fórmula de Lichess para Win%\n",
    "def win_percent(cp):\n",
    "\n",
    "    return 50 + 50 * (2 / (1 + np.exp(-0.00368208 * cp)) - 1)\n",
    "\n",
    "#Fórmula de Lichess para Accuracy%\n",
    "def move_accuracy(win_before, win_after):\n",
    "\n",
    "    return 103.1668 * np.exp(-0.04354 * abs(win_before - win_after)) - 3.1669\n",
    "\n",
    "#Funcion para calcular el accuracy por partida\n",
    "def calcular_accuracy_df(df_moves):\n",
    "\n",
    "    resultados = []\n",
    "\n",
    "    for game_id, group in df_moves.groupby(\"game_id\"):\n",
    "        group = group.sort_values(\"move_number\").reset_index(drop=True)\n",
    "\n",
    "        #Win% antes y después del movimiento usando eval_before y eval_after\n",
    "        win_before = win_percent(group[\"eval_before\"])\n",
    "        win_after  = win_percent(group[\"eval_after\"])\n",
    "\n",
    "        # Accuracy por movimiento\n",
    "        accuracy_move = move_accuracy(win_before, win_after)\n",
    "\n",
    "        # Promedio del accuracy por partida\n",
    "        accuracy_game = accuracy_move.mean(skipna=True)\n",
    "\n",
    "        resultados.append({\n",
    "            \"game_id\": game_id,\n",
    "            \"accuracy_game_player\": accuracy_game\n",
    "        })\n",
    "\n",
    "    return pd.DataFrame(resultados)\n",
    "\n",
    "#Aplicar a movimientos propios de blancas y negras\n",
    "df_accuracy_white = calcular_accuracy_df(df_white_moves)\n",
    "df_accuracy_black = calcular_accuracy_df(df_black_moves)"
   ]
  },
  {
   "cell_type": "code",
   "execution_count": 53,
   "id": "78d1b08a",
   "metadata": {},
   "outputs": [],
   "source": [
    "df_white = df_white.merge(df_accuracy_white, on=\"game_id\", how=\"left\")\n",
    "df_black =  df_black.merge(df_accuracy_black, on=\"game_id\", how=\"left\")"
   ]
  },
  {
   "cell_type": "code",
   "execution_count": 54,
   "id": "2be90106",
   "metadata": {},
   "outputs": [],
   "source": [
    "#Actualizacion de los df de movimientos del `Target Player`\n",
    "df_white_moves = df_white[df_white[\"player_to_move\"] == \"white\"]\n",
    "df_black_moves = df_black[df_black[\"player_to_move\"] == \"black\"]"
   ]
  },
  {
   "cell_type": "markdown",
   "id": "f349c129",
   "metadata": {},
   "source": [
    "### Análisis por fase de la partida\n",
    "\n",
    "* CPL por cada fase de la partida propia y de los adversarios"
   ]
  },
  {
   "cell_type": "code",
   "execution_count": 55,
   "id": "436ee72f",
   "metadata": {},
   "outputs": [
    {
     "name": "stderr",
     "output_type": "stream",
     "text": [
      "C:\\Users\\mccaj\\AppData\\Local\\Temp\\ipykernel_29020\\1549994000.py:9: SettingWithCopyWarning: \n",
      "A value is trying to be set on a copy of a slice from a DataFrame.\n",
      "Try using .loc[row_indexer,col_indexer] = value instead\n",
      "\n",
      "See the caveats in the documentation: https://pandas.pydata.org/pandas-docs/stable/user_guide/indexing.html#returning-a-view-versus-a-copy\n",
      "  df_white_moves[\"fase_game\"] = df_white_moves[\"move_number\"].apply(fase_partida)\n",
      "C:\\Users\\mccaj\\AppData\\Local\\Temp\\ipykernel_29020\\1549994000.py:10: SettingWithCopyWarning: \n",
      "A value is trying to be set on a copy of a slice from a DataFrame.\n",
      "Try using .loc[row_indexer,col_indexer] = value instead\n",
      "\n",
      "See the caveats in the documentation: https://pandas.pydata.org/pandas-docs/stable/user_guide/indexing.html#returning-a-view-versus-a-copy\n",
      "  df_black_moves[\"fase_game\"] = df_black_moves[\"move_number\"].apply(fase_partida)\n"
     ]
    }
   ],
   "source": [
    "def fase_partida(move):\n",
    "    if move <= 10:\n",
    "        return \"Apertura\"\n",
    "    if move <= 30:\n",
    "        return \"Medio juego\"\n",
    "    else:\n",
    "        return \"Final\"\n",
    "    \n",
    "df_white_moves[\"fase_game\"] = df_white_moves[\"move_number\"].apply(fase_partida)\n",
    "df_black_moves[\"fase_game\"] = df_black_moves[\"move_number\"].apply(fase_partida)"
   ]
  },
  {
   "cell_type": "code",
   "execution_count": 56,
   "id": "0a04d9bc",
   "metadata": {},
   "outputs": [
    {
     "name": "stdout",
     "output_type": "stream",
     "text": [
      "Número de movimientos por fase y clasificación del Target Player - Blancas:\n",
      " clasificacion  Blunder  Buena  Error  Excelente  Inexactitud\n",
      "fase_game                                                   \n",
      "Apertura            26    125    169        116          348\n",
      "Final             1074     32    131       1298           45\n",
      "Medio juego        374     93    331        599          121\n",
      "\n",
      "Número de movimientos por fase y clasificación del Target Player - Negras:\n",
      " clasificacion  Blunder  Buena  Error  Excelente  Inexactitud\n",
      "fase_game                                                   \n",
      "Apertura            17     48     61        658           45\n",
      "Final             1221     52    154       1447           65\n",
      "Medio juego        292     74    197        868          105\n"
     ]
    }
   ],
   "source": [
    "# Estadísticas por fase usando la columna 'clasificacion'\n",
    "estadisticas_fase_white = df_white_moves.groupby(\"fase_game\")[\"clasificacion\"].value_counts().unstack(fill_value=0)\n",
    "estadisticas_fase_black = df_black_moves.groupby(\"fase_game\")[\"clasificacion\"].value_counts().unstack(fill_value=0)\n",
    "\n",
    "print(\"Número de movimientos por fase y clasificación del Target Player - Blancas:\\n\", estadisticas_fase_white)\n",
    "print(\"\\nNúmero de movimientos por fase y clasificación del Target Player - Negras:\\n\", estadisticas_fase_black)"
   ]
  },
  {
   "cell_type": "code",
   "execution_count": 57,
   "id": "3124d221",
   "metadata": {},
   "outputs": [
    {
     "data": {
      "image/png": "[encoded data removed]",
      "text/plain": [
       "<Figure size 800x500 with 1 Axes>"
      ]
     },
     "metadata": {},
     "output_type": "display_data"
    }
   ],
   "source": [
    "import seaborn as sns\n",
    "\n",
    "# Definir orden de fases\n",
    "orden = [\"Apertura\", \"Medio juego\", \"Final\"]\n",
    "\n",
    "# CPL promedio por fase\n",
    "estadisticas_cpl_white = df_white_moves.groupby(\"fase_game\")[\"centipawn_loss\"].mean().reset_index()\n",
    "estadisticas_cpl_white[\"color\"] = \"Blancas\"\n",
    "\n",
    "estadisticas_cpl_black = df_black_moves.groupby(\"fase_game\")[\"centipawn_loss\"].mean().reset_index()\n",
    "estadisticas_cpl_black[\"color\"] = \"Negras\"\n",
    "\n",
    "# Unir\n",
    "estadisticas_cpl = pd.concat([estadisticas_cpl_white, estadisticas_cpl_black])\n",
    "\n",
    "# Graficar\n",
    "plt.figure(figsize=(8,5))\n",
    "sns.barplot(\n",
    "    data=estadisticas_cpl,\n",
    "    x=\"fase_game\",\n",
    "    y=\"centipawn_loss\",\n",
    "    hue=\"color\",\n",
    "    order=orden,\n",
    "    palette={\"Blancas\":\"blueviolet\",\"Negras\":\"violet\"}\n",
    ")\n",
    "plt.title(\"CPL promedio por fase de la partida\")\n",
    "plt.ylabel(\"CPL promedio\")\n",
    "plt.xlabel(\"Fase de la partida\")\n",
    "plt.grid(True, alpha=0.3)\n",
    "plt.show()"
   ]
  },
  {
   "cell_type": "code",
   "execution_count": 59,
   "id": "d56894d2",
   "metadata": {},
   "outputs": [
    {
     "data": {
      "image/png": "[encoded data removed]",
      "text/plain": [
       "<Figure size 1000x600 with 1 Axes>"
      ]
     },
     "metadata": {},
     "output_type": "display_data"
    },
    {
     "data": {
      "text/plain": [
       "''"
      ]
     },
     "execution_count": 59,
     "metadata": {},
     "output_type": "execute_result"
    }
   ],
   "source": [
    "\n",
    "# Transformar los df para graficar\n",
    "estadisticas_fase_white_melted = df_white_moves.groupby(\"fase_game\")[\"clasificacion\"].value_counts().reset_index(name=\"cantidad\")\n",
    "estadisticas_fase_white_melted[\"color\"] = \"Blancas\"\n",
    "\n",
    "estadisticas_fase_black_melted = df_black_moves.groupby(\"fase_game\")[\"clasificacion\"].value_counts().reset_index(name=\"cantidad\")\n",
    "estadisticas_fase_black_melted[\"color\"] = \"Negras\"\n",
    "\n",
    "# Unir ambos\n",
    "estadisticas_fase_melted = pd.concat([estadisticas_fase_white_melted, estadisticas_fase_black_melted])\n",
    "\n",
    "# Definir orden de fases y de clasificaciones\n",
    "orden_fases = [\"Apertura\", \"Medio juego\", \"Final\"]\n",
    "orden_clasificacion = [\"Excelente\", \"Buena\", \"Inexactitud\", \"Error\", \"Blunder\"]\n",
    "\n",
    "estadisticas_fase_melted[\"fase_game\"] = pd.Categorical(\n",
    "    estadisticas_fase_melted[\"fase_game\"], categories=orden_fases, ordered=True\n",
    ")\n",
    "estadisticas_fase_melted[\"clasificacion\"] = pd.Categorical(\n",
    "    estadisticas_fase_melted[\"clasificacion\"], categories=orden_clasificacion, ordered=True\n",
    ")\n",
    "\n",
    "# Gráfica de barras\n",
    "plt.figure(figsize=(10,6))\n",
    "sns.barplot(\n",
    "    data=estadisticas_fase_melted,\n",
    "    x=\"fase_game\",\n",
    "    y=\"cantidad\",\n",
    "    hue=\"clasificacion\",\n",
    "    dodge=True,\n",
    "    palette=\"viridis\"  # o cualquier otra paleta\n",
    ")\n",
    "plt.title(\"Distribución de movimientos por fase y clasificación\")\n",
    "plt.ylabel(\"Cantidad de movimientos\")\n",
    "plt.xlabel(\"Fase de la partida\")\n",
    "plt.legend(title=\"Clasificación\")\n",
    "plt.show()\n",
    "\"\""
   ]
  },
  {
   "cell_type": "code",
   "execution_count": null,
   "id": "0e6c007f",
   "metadata": {},
   "outputs": [],
   "source": []
  }
 ],
 "metadata": {
  "kernelspec": {
   "display_name": "Python 3",
   "language": "python",
   "name": "python3"
  },
  "language_info": {
   "codemirror_mode": {
    "name": "ipython",
    "version": 3
   },
   "file_extension": ".py",
   "mimetype": "text/x-python",
   "name": "python",
   "nbconvert_exporter": "python",
   "pygments_lexer": "ipython3",
   "version": "3.12.3"
  }
 },
 "nbformat": 4,
 "nbformat_minor": 5
}
